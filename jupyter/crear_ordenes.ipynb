{
 "cells": [
  {
   "cell_type": "code",
   "execution_count": 4,
   "metadata": {},
   "outputs": [
    {
     "name": "stdout",
     "output_type": "stream",
     "text": [
      "Requirement already satisfied: pandas in /mnt/c/Users/mcomb/Desktop/Serviya/fastapi/.serviya/lib/python3.11/site-packages (2.2.2)\n",
      "\u001b[31mERROR: Could not find a version that satisfies the requirement as (from versions: none)\u001b[0m\u001b[31m\n",
      "\u001b[0m\u001b[31mERROR: No matching distribution found for as\u001b[0m\u001b[31m\n",
      "\u001b[0m\n",
      "\u001b[1m[\u001b[0m\u001b[34;49mnotice\u001b[0m\u001b[1;39;49m]\u001b[0m\u001b[39;49m A new release of pip available: \u001b[0m\u001b[31;49m22.3\u001b[0m\u001b[39;49m -> \u001b[0m\u001b[32;49m24.0\u001b[0m\n",
      "\u001b[1m[\u001b[0m\u001b[34;49mnotice\u001b[0m\u001b[1;39;49m]\u001b[0m\u001b[39;49m To update, run: \u001b[0m\u001b[32;49mpip install --upgrade pip\u001b[0m\n",
      "Note: you may need to restart the kernel to use updated packages.\n"
     ]
    }
   ],
   "source": [
    "%pip install pandas as pd"
   ]
  },
  {
   "cell_type": "code",
   "execution_count": 5,
   "metadata": {},
   "outputs": [],
   "source": [
    "import pandas as pd"
   ]
  },
  {
   "cell_type": "code",
   "execution_count": 10,
   "metadata": {},
   "outputs": [
    {
     "name": "stdout",
     "output_type": "stream",
     "text": [
      "Collecting openpyxl\n",
      "  Downloading openpyxl-3.1.3-py2.py3-none-any.whl (251 kB)\n",
      "\u001b[2K     \u001b[90m━━━━━━━━━━━━━━━━━━━━━━━━━━━━━━━━━━━━━━━\u001b[0m \u001b[32m251.3/251.3 kB\u001b[0m \u001b[31m1.0 MB/s\u001b[0m eta \u001b[36m0:00:00\u001b[0ma \u001b[36m0:00:01\u001b[0m\n",
      "\u001b[?25hCollecting et-xmlfile\n",
      "  Using cached et_xmlfile-1.1.0-py3-none-any.whl (4.7 kB)\n",
      "Installing collected packages: et-xmlfile, openpyxl\n",
      "Successfully installed et-xmlfile-1.1.0 openpyxl-3.1.3\n",
      "\n",
      "\u001b[1m[\u001b[0m\u001b[34;49mnotice\u001b[0m\u001b[1;39;49m]\u001b[0m\u001b[39;49m A new release of pip available: \u001b[0m\u001b[31;49m22.3\u001b[0m\u001b[39;49m -> \u001b[0m\u001b[32;49m24.0\u001b[0m\n",
      "\u001b[1m[\u001b[0m\u001b[34;49mnotice\u001b[0m\u001b[1;39;49m]\u001b[0m\u001b[39;49m To update, run: \u001b[0m\u001b[32;49mpip install --upgrade pip\u001b[0m\n",
      "Note: you may need to restart the kernel to use updated packages.\n"
     ]
    }
   ],
   "source": [
    "%pip install openpyxl"
   ]
  },
  {
   "cell_type": "code",
   "execution_count": 98,
   "metadata": {},
   "outputs": [],
   "source": [
    "# Define la ruta al archivo\n",
    "file_path = \"./libros/pedido.xlsx\"\n",
    "\n",
    "# Lee el archivo de Excel en un DataFrame\n",
    "df = pd.read_excel(file_path)"
   ]
  },
  {
   "cell_type": "code",
   "execution_count": 99,
   "metadata": {},
   "outputs": [],
   "source": [
    "# Define un diccionario con los nombres de las columnas actuales y los nuevos nombres\n",
    "column_names = {\n",
    "    'cliente1': {\n",
    "        'ID GUIA': 'id_guia',\n",
    "        'DESTINATARIO': 'nombre',\n",
    "        'CIUDAD': 'ciudad',\n",
    "        'DIRECCION DESTINATARIO': 'direccion',\n",
    "        'TELEFONO': 'telefono',\n",
    "        'FECHA': 'f_emi',\n",
    "        'FORMA DE PAGO': 'forma_de_pago',\n",
    "        'RECAUDO': 'recaudo',\n",
    "        'CONTENIDO': 'contenido'\n",
    "    },\n",
    "    'cliente2': {\n",
    "        'ID GUIA': 'id_guia_2',\n",
    "        'DESTINATARIO': 'nombre_2',\n",
    "        'CIUDAD': 'ciudad_2',\n",
    "        'DIRECCION DESTINATARIO': 'direccion_2',\n",
    "        'TELEFONO': 'telefono_2',\n",
    "        'FECHA': 'f_emi_2',\n",
    "        'FORMA DE PAGO': 'forma_de_pago_2',\n",
    "        'RECAUDO': 'recaudo_2',\n",
    "        'CONTENIDO': 'contenido_2'\n",
    "    }\n",
    "    # Agrega más clientes según sea necesario\n",
    "}\n"
   ]
  },
  {
   "cell_type": "code",
   "execution_count": 100,
   "metadata": {},
   "outputs": [],
   "source": [
    "# Renombra las columnas\n",
    "df = df.rename(columns=column_names['cliente1'])\n"
   ]
  },
  {
   "cell_type": "code",
   "execution_count": 101,
   "metadata": {},
   "outputs": [
    {
     "name": "stdout",
     "output_type": "stream",
     "text": [
      "   id_guia EMPRESA      f_emi                     nombre       ciudad  \\\n",
      "0   425255   ZAMIA 2024-04-13               Milena Perez  Bogotá D.C.   \n",
      "1   425258   ZAMIA 2024-04-13           Anguely Bernal 2  Bogotá D.C.   \n",
      "2   425261   ZAMIA 2024-04-13  Natalia Andrea Diaz Catro  Bogotá D.C.   \n",
      "3   425262   ZAMIA 2024-04-13         Elizabeth Garreta2  Bogotá D.C.   \n",
      "4   425264   ZAMIA 2024-04-13         DIANA TORRES NINCO  Bogotá D.C.   \n",
      "\n",
      "                                           direccion    telefono  \\\n",
      "0          Cra 87# 18-53 torre 3 apto 104 Hayuelos -  3104048275   \n",
      "1                     Cra 29 #75 a 26 santa Sofía, -  3134088908   \n",
      "2        av cll 3 # 31b-66 piso 4 veraguas central -  3046438960   \n",
      "3  Calle 10b No 88a-17 Reserva de San Agustín II ...  3132685210   \n",
      "4             carrera 78i numero 51a23sur Catalina -  3123832144   \n",
      "\n",
      "  forma_de_pago      recaudo  \\\n",
      "0      EFECTIVO   $69.900,00   \n",
      "1      EFECTIVO   $97.000,00   \n",
      "2      EFECTIVO   $69.900,00   \n",
      "3      EFECTIVO   $69.900,00   \n",
      "4      EFECTIVO  $159.139,00   \n",
      "\n",
      "                                           contenido  \\\n",
      "0                               1 * Crema Aclarante.   \n",
      "1                                 1 * Dúo Aclarante.   \n",
      "2                               1 * Crema Aclarante.   \n",
      "3                               1 * Crema Aclarante.   \n",
      "4  1 * Crema Antiacné. 2 * Crema Aclarante. 1 * S...   \n",
      "\n",
      "                        D. VENTA  \n",
      "0  Remisión de venta PPAL-459339  \n",
      "1  Remisión de venta PPAL-459293  \n",
      "2  Remisión de venta PPAL-459201  \n",
      "3  Remisión de venta PPAL-459200  \n",
      "4  Remisión de venta PPAL-459158  \n"
     ]
    }
   ],
   "source": [
    "print(df.head())"
   ]
  },
  {
   "cell_type": "code",
   "execution_count": 54,
   "metadata": {},
   "outputs": [],
   "source": [
    "from sqlalchemy import create_engine, Table, MetaData, select, func\n",
    "from sqlalchemy.exc import NoSuchTableError"
   ]
  },
  {
   "cell_type": "code",
   "execution_count": 102,
   "metadata": {},
   "outputs": [
    {
     "name": "stdout",
     "output_type": "stream",
     "text": [
      "       serial  id_guia                     nombre       ciudad  \\\n",
      "0  7000000000   425255               Milena Perez  Bogotá D.C.   \n",
      "1  7000000001   425258           Anguely Bernal 2  Bogotá D.C.   \n",
      "2  7000000002   425261  Natalia Andrea Diaz Catro  Bogotá D.C.   \n",
      "3  7000000003   425262         Elizabeth Garreta2  Bogotá D.C.   \n",
      "4  7000000004   425264         DIANA TORRES NINCO  Bogotá D.C.   \n",
      "\n",
      "                                           direccion    telefono      f_emi  \\\n",
      "0          Cra 87# 18-53 torre 3 apto 104 Hayuelos -  3104048275 2024-04-13   \n",
      "1                     Cra 29 #75 a 26 santa Sofía, -  3134088908 2024-04-13   \n",
      "2        av cll 3 # 31b-66 piso 4 veraguas central -  3046438960 2024-04-13   \n",
      "3  Calle 10b No 88a-17 Reserva de San Agustín II ...  3132685210 2024-04-13   \n",
      "4             carrera 78i numero 51a23sur Catalina -  3123832144 2024-04-13   \n",
      "\n",
      "  forma_de_pago      recaudo  \\\n",
      "0      EFECTIVO   $69.900,00   \n",
      "1      EFECTIVO   $97.000,00   \n",
      "2      EFECTIVO   $69.900,00   \n",
      "3      EFECTIVO   $69.900,00   \n",
      "4      EFECTIVO  $159.139,00   \n",
      "\n",
      "                                           contenido  \n",
      "0                               1 * Crema Aclarante.  \n",
      "1                                 1 * Dúo Aclarante.  \n",
      "2                               1 * Crema Aclarante.  \n",
      "3                               1 * Crema Aclarante.  \n",
      "4  1 * Crema Antiacné. 2 * Crema Aclarante. 1 * S...  \n"
     ]
    }
   ],
   "source": [
    "from sqlalchemy import create_engine, Table, MetaData, select, func\n",
    "from sqlalchemy.exc import NoSuchTableError\n",
    "\n",
    "# Crea una conexión a la base de datos\n",
    "engine = create_engine('sqlite:///my_database.db')  # Reemplaza esto con la cadena de conexión a tu base de datos\n",
    "\n",
    "# Define la tabla\n",
    "metadata = MetaData()\n",
    "try:\n",
    "    ordenes = Table('ordenes', metadata, autoload_with=engine)\n",
    "\n",
    "    # Haz una consulta para obtener el valor máximo de 'id'\n",
    "    with engine.connect() as connection:\n",
    "        result = connection.execute(select([func.max(ordenes.c.id)]))\n",
    "        max_id = result.scalar()\n",
    "\n",
    "    # Añade 7000000000 al valor máximo de 'id'\n",
    "    serial = max_id + 7000000000\n",
    "\n",
    "    # Añade la columna 'serial' al DataFrame\n",
    "    df['serial'] = serial\n",
    "\n",
    "    df = df[['serial', 'id_guia', 'nombre', 'ciudad', 'direccion', 'telefono', 'f_emi', 'forma_de_pago', 'recaudo', 'contenido']]\n",
    "\n",
    "\n",
    "    # Inserta el DataFrame en la tabla 'ordenes'\n",
    "    df.to_sql('ordenes', con=engine, if_exists='append', index=False)\n",
    "except NoSuchTableError:\n",
    "    # Si la tabla no existe, establece 'serial' en 7000000000 más el índice del DataFrame\n",
    "    df['serial'] = 7000000000 + df.index\n",
    "\n",
    "    df = df[['serial', 'id_guia', 'nombre', 'ciudad', 'direccion', 'telefono', 'f_emi', 'forma_de_pago', 'recaudo', 'contenido']]\n",
    "\n",
    "\n",
    "    # Inserta el DataFrame en la tabla 'ordenes'\n",
    "    df.to_sql('ordenes', con=engine, if_exists='fail', index=False)\n",
    "\n",
    "print(df.head())"
   ]
  },
  {
   "cell_type": "code",
   "execution_count": 103,
   "metadata": {},
   "outputs": [
    {
     "name": "stdout",
     "output_type": "stream",
     "text": [
      "       serial  id_guia                     nombre       ciudad  \\\n",
      "0  7000000000   425255               Milena Perez  Bogotá D.C.   \n",
      "1  7000000001   425258           Anguely Bernal 2  Bogotá D.C.   \n",
      "2  7000000002   425261  Natalia Andrea Diaz Catro  Bogotá D.C.   \n",
      "3  7000000003   425262         Elizabeth Garreta2  Bogotá D.C.   \n",
      "4  7000000004   425264         DIANA TORRES NINCO  Bogotá D.C.   \n",
      "\n",
      "                                           direccion    telefono      f_emi  \\\n",
      "0          Cra 87# 18-53 torre 3 apto 104 Hayuelos -  3104048275 2024-04-13   \n",
      "1                     Cra 29 #75 a 26 santa Sofía, -  3134088908 2024-04-13   \n",
      "2        av cll 3 # 31b-66 piso 4 veraguas central -  3046438960 2024-04-13   \n",
      "3  Calle 10b No 88a-17 Reserva de San Agustín II ...  3132685210 2024-04-13   \n",
      "4             carrera 78i numero 51a23sur Catalina -  3123832144 2024-04-13   \n",
      "\n",
      "  forma_de_pago      recaudo  \\\n",
      "0      EFECTIVO   $69.900,00   \n",
      "1      EFECTIVO   $97.000,00   \n",
      "2      EFECTIVO   $69.900,00   \n",
      "3      EFECTIVO   $69.900,00   \n",
      "4      EFECTIVO  $159.139,00   \n",
      "\n",
      "                                           contenido  \n",
      "0                               1 * Crema Aclarante.  \n",
      "1                                 1 * Dúo Aclarante.  \n",
      "2                               1 * Crema Aclarante.  \n",
      "3                               1 * Crema Aclarante.  \n",
      "4  1 * Crema Antiacné. 2 * Crema Aclarante. 1 * S...  \n"
     ]
    }
   ],
   "source": [
    "print(df.head())"
   ]
  },
  {
   "cell_type": "code",
   "execution_count": 111,
   "metadata": {},
   "outputs": [
    {
     "name": "stdout",
     "output_type": "stream",
     "text": [
      "Collecting unidecode\n",
      "  Downloading Unidecode-1.3.8-py3-none-any.whl (235 kB)\n",
      "\u001b[2K     \u001b[90m━━━━━━━━━━━━━━━━━━━━━━━━━━━━━━━━━━━━━━━\u001b[0m \u001b[32m235.5/235.5 kB\u001b[0m \u001b[31m1.0 MB/s\u001b[0m eta \u001b[36m0:00:00\u001b[0ma \u001b[36m0:00:01\u001b[0m\n",
      "\u001b[?25hInstalling collected packages: unidecode\n",
      "Successfully installed unidecode-1.3.8\n",
      "\n",
      "\u001b[1m[\u001b[0m\u001b[34;49mnotice\u001b[0m\u001b[1;39;49m]\u001b[0m\u001b[39;49m A new release of pip available: \u001b[0m\u001b[31;49m22.3\u001b[0m\u001b[39;49m -> \u001b[0m\u001b[32;49m24.0\u001b[0m\n",
      "\u001b[1m[\u001b[0m\u001b[34;49mnotice\u001b[0m\u001b[1;39;49m]\u001b[0m\u001b[39;49m To update, run: \u001b[0m\u001b[32;49mpip install --upgrade pip\u001b[0m\n",
      "Note: you may need to restart the kernel to use updated packages.\n"
     ]
    }
   ],
   "source": [
    "%pip install unidecode"
   ]
  },
  {
   "cell_type": "code",
   "execution_count": 112,
   "metadata": {},
   "outputs": [],
   "source": [
    "import re\n",
    "import unidecode\n",
    "\n",
    "def expandir_contenido(df):\n",
    "    # Extrae todas las secuencias de 'cantidad * producto.' de 'contenido'\n",
    "    matches = re.findall(r'(\\d+) \\* ([^.]+)\\.', df['contenido'])\n",
    "\n",
    "    # Crea una nueva fila por cada secuencia de 'cantidad * producto.'\n",
    "    nuevas_filas = []\n",
    "    for cantidad, producto in matches:\n",
    "        # Si aparece la palabra 'Dúo', multiplica la cantidad por dos y borra la palabra 'Dúo'\n",
    "        if 'Dúo' in producto:\n",
    "            cantidad = str(int(cantidad) * 2)\n",
    "            producto = producto.replace('Dúo', '').strip()\n",
    "\n",
    "        # Si aparece la palabra 'Crema', borra la palabra 'Crema'\n",
    "        if 'Crema' in producto:\n",
    "            producto = producto.replace('Crema', '').strip()\n",
    "\n",
    "        nuevas_filas.append({'serial': df['serial'], 'cantidad': cantidad, 'producto': producto})\n",
    "\n",
    "    return nuevas_filas"
   ]
  },
  {
   "cell_type": "code",
   "execution_count": 113,
   "metadata": {},
   "outputs": [
    {
     "name": "stdout",
     "output_type": "stream",
     "text": [
      "        serial cantidad   producto\n",
      "0   7000000000        1  aclarante\n",
      "1   7000000001        2  aclarante\n",
      "2   7000000002        1  aclarante\n",
      "3   7000000003        1  aclarante\n",
      "4   7000000004        1   antiacne\n",
      "..         ...      ...        ...\n",
      "86  7000000066        1  aclarante\n",
      "87  7000000067        1   antiacne\n",
      "88  7000000067        1  aclarante\n",
      "89  7000000067        1    slimgel\n",
      "90  7000000068        1  aclarante\n",
      "\n",
      "[91 rows x 3 columns]\n"
     ]
    }
   ],
   "source": [
    "nuevas_filas = []\n",
    "for _, row in df.iterrows():\n",
    "    nuevas_filas.extend(expandir_contenido(row))\n",
    "df_inventario = pd.DataFrame(nuevas_filas)\n",
    "df_inventario['producto'] = df_inventario['producto'].str.lower().apply(unidecode.unidecode)\n",
    "\n",
    "print(df_inventario)"
   ]
  },
  {
   "cell_type": "code",
   "execution_count": 114,
   "metadata": {},
   "outputs": [
    {
     "name": "stdout",
     "output_type": "stream",
     "text": [
      "        serial cantidad   producto\n",
      "41  7000000030        1  aclarante\n",
      "42  7000000031        2  aclarante\n",
      "43  7000000032        1  aclarante\n",
      "44  7000000033        1  aclarante\n",
      "45  7000000034        1   antiacne\n",
      "46  7000000034        1    slimgel\n",
      "47  7000000035        1  aclarante\n",
      "48  7000000036        1  aclarante\n",
      "49  7000000037        2   antiacne\n",
      "50  7000000037        1    slimgel\n",
      "51  7000000038        2  aclarante\n",
      "52  7000000039        2   antiacne\n",
      "53  7000000040        1  aclarante\n",
      "54  7000000041        2  aclarante\n",
      "55  7000000042        2  aclarante\n",
      "56  7000000043        1   antiacne\n",
      "57  7000000044        2  aclarante\n",
      "58  7000000045        1   antiacne\n",
      "59  7000000045        1  aclarante\n",
      "60  7000000046        1   antiacne\n",
      "61  7000000046        1  aclarante\n",
      "62  7000000047        1   antiacne\n",
      "63  7000000048        1  aclarante\n",
      "64  7000000049        2  aclarante\n",
      "65  7000000049        1    slimgel\n",
      "66  7000000050        1  aclarante\n",
      "67  7000000051        1  aclarante\n",
      "68  7000000052        1  aclarante\n",
      "69  7000000053        1  aclarante\n",
      "70  7000000054        1  aclarante\n",
      "71  7000000055        2  aclarante\n",
      "72  7000000056        1  aclarante\n",
      "73  7000000056        1   antiacne\n",
      "74  7000000056        1    slimgel\n",
      "75  7000000057        1  aclarante\n",
      "76  7000000058        1  aclarante\n",
      "77  7000000058        1   antiacne\n",
      "78  7000000058        1    slimgel\n",
      "79  7000000059        1  aclarante\n",
      "80  7000000060        1  aclarante\n",
      "81  7000000061        2  aclarante\n",
      "82  7000000062        1  aclarante\n",
      "83  7000000063        1  aclarante\n",
      "84  7000000064        2  aclarante\n",
      "85  7000000065        1  aclarante\n",
      "86  7000000066        1  aclarante\n",
      "87  7000000067        1   antiacne\n",
      "88  7000000067        1  aclarante\n",
      "89  7000000067        1    slimgel\n",
      "90  7000000068        1  aclarante\n"
     ]
    }
   ],
   "source": [
    "print(df_inventario.tail(50))"
   ]
  }
 ],
 "metadata": {
  "kernelspec": {
   "display_name": ".serviya",
   "language": "python",
   "name": "python3"
  },
  "language_info": {
   "codemirror_mode": {
    "name": "ipython",
    "version": 3
   },
   "file_extension": ".py",
   "mimetype": "text/x-python",
   "name": "python",
   "nbconvert_exporter": "python",
   "pygments_lexer": "ipython3",
   "version": "3.11.0"
  }
 },
 "nbformat": 4,
 "nbformat_minor": 2
}
